{
 "cells": [
  {
   "cell_type": "code",
   "execution_count": 1,
   "id": "1d348a03-edf7-4c24-bb0f-27246e78397c",
   "metadata": {},
   "outputs": [],
   "source": [
    "import pandas as pd\n",
    "import numpy as np\n",
    "import plotly.express as px\n",
    "import plotly.graph_objects as go"
   ]
  },
  {
   "cell_type": "code",
   "execution_count": 80,
   "id": "ecb26f40-6e83-4158-b7f0-c5c7dc36d557",
   "metadata": {},
   "outputs": [
    {
     "data": {
      "text/html": [
       "<div>\n",
       "<style scoped>\n",
       "    .dataframe tbody tr th:only-of-type {\n",
       "        vertical-align: middle;\n",
       "    }\n",
       "\n",
       "    .dataframe tbody tr th {\n",
       "        vertical-align: top;\n",
       "    }\n",
       "\n",
       "    .dataframe thead th {\n",
       "        text-align: right;\n",
       "    }\n",
       "</style>\n",
       "<table border=\"1\" class=\"dataframe\">\n",
       "  <thead>\n",
       "    <tr style=\"text-align: right;\">\n",
       "      <th></th>\n",
       "      <th>Year</th>\n",
       "      <th>FR</th>\n",
       "      <th>IE</th>\n",
       "      <th>UK</th>\n",
       "      <th>date</th>\n",
       "      <th>uk_population</th>\n",
       "      <th>ireland_population</th>\n",
       "      <th>france_population</th>\n",
       "      <th>UK_perc</th>\n",
       "      <th>FR_perc</th>\n",
       "      <th>IE_perc</th>\n",
       "    </tr>\n",
       "  </thead>\n",
       "  <tbody>\n",
       "    <tr>\n",
       "      <th>0</th>\n",
       "      <td>2014</td>\n",
       "      <td>423.0</td>\n",
       "      <td>78.0</td>\n",
       "      <td>1211.0</td>\n",
       "      <td>2014-01-01</td>\n",
       "      <td>64.602298</td>\n",
       "      <td>4.657740</td>\n",
       "      <td>66.312067</td>\n",
       "      <td>18.745463</td>\n",
       "      <td>6.378929</td>\n",
       "      <td>16.746319</td>\n",
       "    </tr>\n",
       "    <tr>\n",
       "      <th>1</th>\n",
       "      <td>2015</td>\n",
       "      <td>444.0</td>\n",
       "      <td>90.0</td>\n",
       "      <td>1228.0</td>\n",
       "      <td>2015-01-01</td>\n",
       "      <td>65.116219</td>\n",
       "      <td>4.701957</td>\n",
       "      <td>66.548272</td>\n",
       "      <td>18.858589</td>\n",
       "      <td>6.671849</td>\n",
       "      <td>19.140966</td>\n",
       "    </tr>\n",
       "    <tr>\n",
       "      <th>2</th>\n",
       "      <td>2016</td>\n",
       "      <td>460.0</td>\n",
       "      <td>109.0</td>\n",
       "      <td>1311.0</td>\n",
       "      <td>2016-01-01</td>\n",
       "      <td>65.611593</td>\n",
       "      <td>4.755335</td>\n",
       "      <td>66.724104</td>\n",
       "      <td>19.981225</td>\n",
       "      <td>6.894060</td>\n",
       "      <td>22.921624</td>\n",
       "    </tr>\n",
       "    <tr>\n",
       "      <th>3</th>\n",
       "      <td>2017</td>\n",
       "      <td>446.0</td>\n",
       "      <td>113.0</td>\n",
       "      <td>1298.0</td>\n",
       "      <td>2017-01-01</td>\n",
       "      <td>66.058859</td>\n",
       "      <td>4.807388</td>\n",
       "      <td>66.918020</td>\n",
       "      <td>19.649144</td>\n",
       "      <td>6.664871</td>\n",
       "      <td>23.505488</td>\n",
       "    </tr>\n",
       "    <tr>\n",
       "      <th>4</th>\n",
       "      <td>2018</td>\n",
       "      <td>428.0</td>\n",
       "      <td>112.0</td>\n",
       "      <td>1315.0</td>\n",
       "      <td>2018-01-01</td>\n",
       "      <td>66.460344</td>\n",
       "      <td>4.867316</td>\n",
       "      <td>67.158348</td>\n",
       "      <td>19.786235</td>\n",
       "      <td>6.372998</td>\n",
       "      <td>23.010628</td>\n",
       "    </tr>\n",
       "    <tr>\n",
       "      <th>5</th>\n",
       "      <td>2019</td>\n",
       "      <td>428.0</td>\n",
       "      <td>113.0</td>\n",
       "      <td>1301.0</td>\n",
       "      <td>2019-01-01</td>\n",
       "      <td>66.836327</td>\n",
       "      <td>4.934340</td>\n",
       "      <td>67.388001</td>\n",
       "      <td>19.465462</td>\n",
       "      <td>6.351279</td>\n",
       "      <td>22.900732</td>\n",
       "    </tr>\n",
       "    <tr>\n",
       "      <th>6</th>\n",
       "      <td>2020</td>\n",
       "      <td>428.0</td>\n",
       "      <td>112.0</td>\n",
       "      <td>1327.0</td>\n",
       "      <td>2020-01-01</td>\n",
       "      <td>67.081234</td>\n",
       "      <td>4.985382</td>\n",
       "      <td>67.571107</td>\n",
       "      <td>19.781986</td>\n",
       "      <td>6.334068</td>\n",
       "      <td>22.465681</td>\n",
       "    </tr>\n",
       "    <tr>\n",
       "      <th>7</th>\n",
       "      <td>2021</td>\n",
       "      <td>415.0</td>\n",
       "      <td>115.0</td>\n",
       "      <td>1321.0</td>\n",
       "      <td>2021-01-01</td>\n",
       "      <td>67.026292</td>\n",
       "      <td>5.033164</td>\n",
       "      <td>67.764304</td>\n",
       "      <td>19.708684</td>\n",
       "      <td>6.124168</td>\n",
       "      <td>22.848451</td>\n",
       "    </tr>\n",
       "    <tr>\n",
       "      <th>8</th>\n",
       "      <td>2022</td>\n",
       "      <td>426.0</td>\n",
       "      <td>116.0</td>\n",
       "      <td>1342.0</td>\n",
       "      <td>2022-01-01</td>\n",
       "      <td>67.791000</td>\n",
       "      <td>5.127170</td>\n",
       "      <td>67.971311</td>\n",
       "      <td>19.796138</td>\n",
       "      <td>6.267350</td>\n",
       "      <td>22.624567</td>\n",
       "    </tr>\n",
       "    <tr>\n",
       "      <th>9</th>\n",
       "      <td>2023</td>\n",
       "      <td>440.0</td>\n",
       "      <td>111.0</td>\n",
       "      <td>1285.0</td>\n",
       "      <td>2023-01-01</td>\n",
       "      <td>68.350000</td>\n",
       "      <td>5.262382</td>\n",
       "      <td>68.170228</td>\n",
       "      <td>18.800293</td>\n",
       "      <td>6.454431</td>\n",
       "      <td>21.093110</td>\n",
       "    </tr>\n",
       "    <tr>\n",
       "      <th>10</th>\n",
       "      <td>2024</td>\n",
       "      <td>453.0</td>\n",
       "      <td>114.0</td>\n",
       "      <td>1267.0</td>\n",
       "      <td>NaN</td>\n",
       "      <td>NaN</td>\n",
       "      <td>NaN</td>\n",
       "      <td>NaN</td>\n",
       "      <td>NaN</td>\n",
       "      <td>NaN</td>\n",
       "      <td>NaN</td>\n",
       "    </tr>\n",
       "  </tbody>\n",
       "</table>\n",
       "</div>"
      ],
      "text/plain": [
       "    Year     FR     IE      UK        date  uk_population  ireland_population  \\\n",
       "0   2014  423.0   78.0  1211.0  2014-01-01      64.602298            4.657740   \n",
       "1   2015  444.0   90.0  1228.0  2015-01-01      65.116219            4.701957   \n",
       "2   2016  460.0  109.0  1311.0  2016-01-01      65.611593            4.755335   \n",
       "3   2017  446.0  113.0  1298.0  2017-01-01      66.058859            4.807388   \n",
       "4   2018  428.0  112.0  1315.0  2018-01-01      66.460344            4.867316   \n",
       "5   2019  428.0  113.0  1301.0  2019-01-01      66.836327            4.934340   \n",
       "6   2020  428.0  112.0  1327.0  2020-01-01      67.081234            4.985382   \n",
       "7   2021  415.0  115.0  1321.0  2021-01-01      67.026292            5.033164   \n",
       "8   2022  426.0  116.0  1342.0  2022-01-01      67.791000            5.127170   \n",
       "9   2023  440.0  111.0  1285.0  2023-01-01      68.350000            5.262382   \n",
       "10  2024  453.0  114.0  1267.0         NaN            NaN                 NaN   \n",
       "\n",
       "    france_population    UK_perc   FR_perc    IE_perc  \n",
       "0           66.312067  18.745463  6.378929  16.746319  \n",
       "1           66.548272  18.858589  6.671849  19.140966  \n",
       "2           66.724104  19.981225  6.894060  22.921624  \n",
       "3           66.918020  19.649144  6.664871  23.505488  \n",
       "4           67.158348  19.786235  6.372998  23.010628  \n",
       "5           67.388001  19.465462  6.351279  22.900732  \n",
       "6           67.571107  19.781986  6.334068  22.465681  \n",
       "7           67.764304  19.708684  6.124168  22.848451  \n",
       "8           67.971311  19.796138  6.267350  22.624567  \n",
       "9           68.170228  18.800293  6.454431  21.093110  \n",
       "10                NaN        NaN       NaN        NaN  "
      ]
     },
     "execution_count": 80,
     "metadata": {},
     "output_type": "execute_result"
    }
   ],
   "source": [
    "#plot number of merchant ships owned by country (beneficial ownership)\n",
    "\n",
    "df = pd.read_csv(\"../input/UN/ships_over_time.csv\",index_col=0)\n",
    "df = df[df['FlagOfRegistration Label']==\"Total all flags\"]\n",
    "df = df[df['BeneficialOwnership Label'].isin([\"France\",\"United Kingdom\",\"Ireland\"])].reset_index()\n",
    "df[\"BeneficialOwnership\"] = df[\"BeneficialOwnership\"].replace('0000u',\"0\").astype(\"float\")\n",
    "df = df.groupby([\"Year\",'BeneficialOwnership Label'])[\"Number of ships\"].sum().reset_index()\n",
    "\n",
    "population = pd.read_csv(\"../input/population.csv\")\n",
    "population.columns = [\"date\", \"uk_population\", \"ireland_population\",\"france_population\",]\n",
    "population[[\"france_population\", \"ireland_population\", \"uk_population\"]] = population[[\"france_population\", \"ireland_population\", \"uk_population\"]] / 1000000\n",
    "population[\"Year\"] = [int(x[:4]) for x in population.date]\n",
    "df = df.pivot(index='Year', columns='BeneficialOwnership Label', values='Number of ships').reset_index()\n",
    "df.columns = ['Year', 'FR', 'IE', 'UK']\n",
    "\n",
    "df = df.merge(population, on=\"Year\",how=\"left\")\n",
    "\n",
    "df[\"UK_perc\"] = df[\"UK\"]/df[\"uk_population\"]\n",
    "df[\"FR_perc\"] = df[\"FR\"]/df[\"france_population\"]\n",
    "df[\"IE_perc\"] = df[\"IE\"]/df[\"ireland_population\"]\n",
    "\n",
    "df"
   ]
  },
  {
   "cell_type": "code",
   "execution_count": 109,
   "id": "962d6ece-4d62-488f-940a-0b538d54e91f",
   "metadata": {},
   "outputs": [
    {
     "data": {
      "application/vnd.plotly.v1+json": {
       "config": {
        "plotlyServerURL": "https://plot.ly"
       },
       "data": [
        {
         "mode": "lines+markers",
         "name": "UK",
         "type": "scatter",
         "x": [
          2014,
          2015,
          2016,
          2017,
          2018,
          2019,
          2020,
          2021,
          2022,
          2023,
          2024
         ],
         "y": [
          18.745463203182027,
          18.85858882561962,
          19.981224964313853,
          19.649143500949663,
          19.786235232246163,
          19.465462247798268,
          19.781985525191743,
          19.708683869905858,
          19.796138130430293,
          18.80029261155816,
          null
         ]
        },
        {
         "mode": "lines+markers",
         "name": "France",
         "type": "scatter",
         "x": [
          2014,
          2015,
          2016,
          2017,
          2018,
          2019,
          2020,
          2021,
          2022,
          2023,
          2024
         ],
         "y": [
          6.378929494084388,
          6.671848669489119,
          6.894060353361958,
          6.664871435227761,
          6.372997739610867,
          6.3512790652448645,
          6.334068198705107,
          6.124168264164567,
          6.267350058909413,
          6.45443051767408,
          null
         ]
        },
        {
         "mode": "lines+markers",
         "name": "Ireland",
         "type": "scatter",
         "x": [
          2014,
          2015,
          2016,
          2017,
          2018,
          2019,
          2020,
          2021,
          2022,
          2023,
          2024
         ],
         "y": [
          16.746319030259308,
          19.140966197691725,
          22.92162381830092,
          23.505487803355997,
          23.010628444917078,
          22.900732418114682,
          22.465680663989236,
          22.84845079556319,
          22.624566768802286,
          21.093109546209302,
          null
         ]
        }
       ],
       "layout": {
        "annotations": [
         {
          "arrowhead": 1,
          "ax": 0,
          "ay": -20,
          "bgcolor": "white",
          "bordercolor": "black",
          "borderpad": 3,
          "font": {
           "size": 10
          },
          "showarrow": true,
          "text": "1285 UK Ships",
          "x": 2023,
          "xref": "x",
          "y": 18.80029261155816,
          "yref": "y"
         },
         {
          "arrowhead": 1,
          "ax": 0,
          "ay": -20,
          "bgcolor": "white",
          "bordercolor": "black",
          "borderpad": 3,
          "font": {
           "size": 10
          },
          "showarrow": true,
          "text": "440 FR Ships",
          "x": 2023,
          "xref": "x",
          "y": 6.45443051767408,
          "yref": "y"
         },
         {
          "arrowhead": 1,
          "ax": 0,
          "ay": -20,
          "bgcolor": "white",
          "bordercolor": "black",
          "borderpad": 3,
          "font": {
           "size": 10
          },
          "showarrow": true,
          "text": "111 IE Ships",
          "x": 2023,
          "xref": "x",
          "y": 21.093109546209302,
          "yref": "y"
         },
         {
          "font": {
           "size": 12
          },
          "showarrow": false,
          "text": "Source: <a href='https://unctadstat.unctad.org/datacentre/dataviewer/US.FleetBeneficialOwners'>UN Trade & Development Statistics</a>",
          "x": 0.5,
          "xanchor": "center",
          "xref": "paper",
          "y": -0.3,
          "yref": "paper"
         }
        ],
        "height": 400,
        "hovermode": "x unified",
        "legend": {
         "title": {
          "text": "Country"
         }
        },
        "showlegend": false,
        "template": {
         "data": {
          "bar": [
           {
            "error_x": {
             "color": "#2a3f5f"
            },
            "error_y": {
             "color": "#2a3f5f"
            },
            "marker": {
             "line": {
              "color": "white",
              "width": 0.5
             },
             "pattern": {
              "fillmode": "overlay",
              "size": 10,
              "solidity": 0.2
             }
            },
            "type": "bar"
           }
          ],
          "barpolar": [
           {
            "marker": {
             "line": {
              "color": "white",
              "width": 0.5
             },
             "pattern": {
              "fillmode": "overlay",
              "size": 10,
              "solidity": 0.2
             }
            },
            "type": "barpolar"
           }
          ],
          "carpet": [
           {
            "aaxis": {
             "endlinecolor": "#2a3f5f",
             "gridcolor": "#C8D4E3",
             "linecolor": "#C8D4E3",
             "minorgridcolor": "#C8D4E3",
             "startlinecolor": "#2a3f5f"
            },
            "baxis": {
             "endlinecolor": "#2a3f5f",
             "gridcolor": "#C8D4E3",
             "linecolor": "#C8D4E3",
             "minorgridcolor": "#C8D4E3",
             "startlinecolor": "#2a3f5f"
            },
            "type": "carpet"
           }
          ],
          "choropleth": [
           {
            "colorbar": {
             "outlinewidth": 0,
             "ticks": ""
            },
            "type": "choropleth"
           }
          ],
          "contour": [
           {
            "colorbar": {
             "outlinewidth": 0,
             "ticks": ""
            },
            "colorscale": [
             [
              0,
              "#0d0887"
             ],
             [
              0.1111111111111111,
              "#46039f"
             ],
             [
              0.2222222222222222,
              "#7201a8"
             ],
             [
              0.3333333333333333,
              "#9c179e"
             ],
             [
              0.4444444444444444,
              "#bd3786"
             ],
             [
              0.5555555555555556,
              "#d8576b"
             ],
             [
              0.6666666666666666,
              "#ed7953"
             ],
             [
              0.7777777777777778,
              "#fb9f3a"
             ],
             [
              0.8888888888888888,
              "#fdca26"
             ],
             [
              1,
              "#f0f921"
             ]
            ],
            "type": "contour"
           }
          ],
          "contourcarpet": [
           {
            "colorbar": {
             "outlinewidth": 0,
             "ticks": ""
            },
            "type": "contourcarpet"
           }
          ],
          "heatmap": [
           {
            "colorbar": {
             "outlinewidth": 0,
             "ticks": ""
            },
            "colorscale": [
             [
              0,
              "#0d0887"
             ],
             [
              0.1111111111111111,
              "#46039f"
             ],
             [
              0.2222222222222222,
              "#7201a8"
             ],
             [
              0.3333333333333333,
              "#9c179e"
             ],
             [
              0.4444444444444444,
              "#bd3786"
             ],
             [
              0.5555555555555556,
              "#d8576b"
             ],
             [
              0.6666666666666666,
              "#ed7953"
             ],
             [
              0.7777777777777778,
              "#fb9f3a"
             ],
             [
              0.8888888888888888,
              "#fdca26"
             ],
             [
              1,
              "#f0f921"
             ]
            ],
            "type": "heatmap"
           }
          ],
          "heatmapgl": [
           {
            "colorbar": {
             "outlinewidth": 0,
             "ticks": ""
            },
            "colorscale": [
             [
              0,
              "#0d0887"
             ],
             [
              0.1111111111111111,
              "#46039f"
             ],
             [
              0.2222222222222222,
              "#7201a8"
             ],
             [
              0.3333333333333333,
              "#9c179e"
             ],
             [
              0.4444444444444444,
              "#bd3786"
             ],
             [
              0.5555555555555556,
              "#d8576b"
             ],
             [
              0.6666666666666666,
              "#ed7953"
             ],
             [
              0.7777777777777778,
              "#fb9f3a"
             ],
             [
              0.8888888888888888,
              "#fdca26"
             ],
             [
              1,
              "#f0f921"
             ]
            ],
            "type": "heatmapgl"
           }
          ],
          "histogram": [
           {
            "marker": {
             "pattern": {
              "fillmode": "overlay",
              "size": 10,
              "solidity": 0.2
             }
            },
            "type": "histogram"
           }
          ],
          "histogram2d": [
           {
            "colorbar": {
             "outlinewidth": 0,
             "ticks": ""
            },
            "colorscale": [
             [
              0,
              "#0d0887"
             ],
             [
              0.1111111111111111,
              "#46039f"
             ],
             [
              0.2222222222222222,
              "#7201a8"
             ],
             [
              0.3333333333333333,
              "#9c179e"
             ],
             [
              0.4444444444444444,
              "#bd3786"
             ],
             [
              0.5555555555555556,
              "#d8576b"
             ],
             [
              0.6666666666666666,
              "#ed7953"
             ],
             [
              0.7777777777777778,
              "#fb9f3a"
             ],
             [
              0.8888888888888888,
              "#fdca26"
             ],
             [
              1,
              "#f0f921"
             ]
            ],
            "type": "histogram2d"
           }
          ],
          "histogram2dcontour": [
           {
            "colorbar": {
             "outlinewidth": 0,
             "ticks": ""
            },
            "colorscale": [
             [
              0,
              "#0d0887"
             ],
             [
              0.1111111111111111,
              "#46039f"
             ],
             [
              0.2222222222222222,
              "#7201a8"
             ],
             [
              0.3333333333333333,
              "#9c179e"
             ],
             [
              0.4444444444444444,
              "#bd3786"
             ],
             [
              0.5555555555555556,
              "#d8576b"
             ],
             [
              0.6666666666666666,
              "#ed7953"
             ],
             [
              0.7777777777777778,
              "#fb9f3a"
             ],
             [
              0.8888888888888888,
              "#fdca26"
             ],
             [
              1,
              "#f0f921"
             ]
            ],
            "type": "histogram2dcontour"
           }
          ],
          "mesh3d": [
           {
            "colorbar": {
             "outlinewidth": 0,
             "ticks": ""
            },
            "type": "mesh3d"
           }
          ],
          "parcoords": [
           {
            "line": {
             "colorbar": {
              "outlinewidth": 0,
              "ticks": ""
             }
            },
            "type": "parcoords"
           }
          ],
          "pie": [
           {
            "automargin": true,
            "type": "pie"
           }
          ],
          "scatter": [
           {
            "fillpattern": {
             "fillmode": "overlay",
             "size": 10,
             "solidity": 0.2
            },
            "type": "scatter"
           }
          ],
          "scatter3d": [
           {
            "line": {
             "colorbar": {
              "outlinewidth": 0,
              "ticks": ""
             }
            },
            "marker": {
             "colorbar": {
              "outlinewidth": 0,
              "ticks": ""
             }
            },
            "type": "scatter3d"
           }
          ],
          "scattercarpet": [
           {
            "marker": {
             "colorbar": {
              "outlinewidth": 0,
              "ticks": ""
             }
            },
            "type": "scattercarpet"
           }
          ],
          "scattergeo": [
           {
            "marker": {
             "colorbar": {
              "outlinewidth": 0,
              "ticks": ""
             }
            },
            "type": "scattergeo"
           }
          ],
          "scattergl": [
           {
            "marker": {
             "colorbar": {
              "outlinewidth": 0,
              "ticks": ""
             }
            },
            "type": "scattergl"
           }
          ],
          "scattermapbox": [
           {
            "marker": {
             "colorbar": {
              "outlinewidth": 0,
              "ticks": ""
             }
            },
            "type": "scattermapbox"
           }
          ],
          "scatterpolar": [
           {
            "marker": {
             "colorbar": {
              "outlinewidth": 0,
              "ticks": ""
             }
            },
            "type": "scatterpolar"
           }
          ],
          "scatterpolargl": [
           {
            "marker": {
             "colorbar": {
              "outlinewidth": 0,
              "ticks": ""
             }
            },
            "type": "scatterpolargl"
           }
          ],
          "scatterternary": [
           {
            "marker": {
             "colorbar": {
              "outlinewidth": 0,
              "ticks": ""
             }
            },
            "type": "scatterternary"
           }
          ],
          "surface": [
           {
            "colorbar": {
             "outlinewidth": 0,
             "ticks": ""
            },
            "colorscale": [
             [
              0,
              "#0d0887"
             ],
             [
              0.1111111111111111,
              "#46039f"
             ],
             [
              0.2222222222222222,
              "#7201a8"
             ],
             [
              0.3333333333333333,
              "#9c179e"
             ],
             [
              0.4444444444444444,
              "#bd3786"
             ],
             [
              0.5555555555555556,
              "#d8576b"
             ],
             [
              0.6666666666666666,
              "#ed7953"
             ],
             [
              0.7777777777777778,
              "#fb9f3a"
             ],
             [
              0.8888888888888888,
              "#fdca26"
             ],
             [
              1,
              "#f0f921"
             ]
            ],
            "type": "surface"
           }
          ],
          "table": [
           {
            "cells": {
             "fill": {
              "color": "#EBF0F8"
             },
             "line": {
              "color": "white"
             }
            },
            "header": {
             "fill": {
              "color": "#C8D4E3"
             },
             "line": {
              "color": "white"
             }
            },
            "type": "table"
           }
          ]
         },
         "layout": {
          "annotationdefaults": {
           "arrowcolor": "#2a3f5f",
           "arrowhead": 0,
           "arrowwidth": 1
          },
          "autotypenumbers": "strict",
          "coloraxis": {
           "colorbar": {
            "outlinewidth": 0,
            "ticks": ""
           }
          },
          "colorscale": {
           "diverging": [
            [
             0,
             "#8e0152"
            ],
            [
             0.1,
             "#c51b7d"
            ],
            [
             0.2,
             "#de77ae"
            ],
            [
             0.3,
             "#f1b6da"
            ],
            [
             0.4,
             "#fde0ef"
            ],
            [
             0.5,
             "#f7f7f7"
            ],
            [
             0.6,
             "#e6f5d0"
            ],
            [
             0.7,
             "#b8e186"
            ],
            [
             0.8,
             "#7fbc41"
            ],
            [
             0.9,
             "#4d9221"
            ],
            [
             1,
             "#276419"
            ]
           ],
           "sequential": [
            [
             0,
             "#0d0887"
            ],
            [
             0.1111111111111111,
             "#46039f"
            ],
            [
             0.2222222222222222,
             "#7201a8"
            ],
            [
             0.3333333333333333,
             "#9c179e"
            ],
            [
             0.4444444444444444,
             "#bd3786"
            ],
            [
             0.5555555555555556,
             "#d8576b"
            ],
            [
             0.6666666666666666,
             "#ed7953"
            ],
            [
             0.7777777777777778,
             "#fb9f3a"
            ],
            [
             0.8888888888888888,
             "#fdca26"
            ],
            [
             1,
             "#f0f921"
            ]
           ],
           "sequentialminus": [
            [
             0,
             "#0d0887"
            ],
            [
             0.1111111111111111,
             "#46039f"
            ],
            [
             0.2222222222222222,
             "#7201a8"
            ],
            [
             0.3333333333333333,
             "#9c179e"
            ],
            [
             0.4444444444444444,
             "#bd3786"
            ],
            [
             0.5555555555555556,
             "#d8576b"
            ],
            [
             0.6666666666666666,
             "#ed7953"
            ],
            [
             0.7777777777777778,
             "#fb9f3a"
            ],
            [
             0.8888888888888888,
             "#fdca26"
            ],
            [
             1,
             "#f0f921"
            ]
           ]
          },
          "colorway": [
           "#636efa",
           "#EF553B",
           "#00cc96",
           "#ab63fa",
           "#FFA15A",
           "#19d3f3",
           "#FF6692",
           "#B6E880",
           "#FF97FF",
           "#FECB52"
          ],
          "font": {
           "color": "#2a3f5f"
          },
          "geo": {
           "bgcolor": "white",
           "lakecolor": "white",
           "landcolor": "white",
           "showlakes": true,
           "showland": true,
           "subunitcolor": "#C8D4E3"
          },
          "hoverlabel": {
           "align": "left"
          },
          "hovermode": "closest",
          "mapbox": {
           "style": "light"
          },
          "paper_bgcolor": "white",
          "plot_bgcolor": "white",
          "polar": {
           "angularaxis": {
            "gridcolor": "#EBF0F8",
            "linecolor": "#EBF0F8",
            "ticks": ""
           },
           "bgcolor": "white",
           "radialaxis": {
            "gridcolor": "#EBF0F8",
            "linecolor": "#EBF0F8",
            "ticks": ""
           }
          },
          "scene": {
           "xaxis": {
            "backgroundcolor": "white",
            "gridcolor": "#DFE8F3",
            "gridwidth": 2,
            "linecolor": "#EBF0F8",
            "showbackground": true,
            "ticks": "",
            "zerolinecolor": "#EBF0F8"
           },
           "yaxis": {
            "backgroundcolor": "white",
            "gridcolor": "#DFE8F3",
            "gridwidth": 2,
            "linecolor": "#EBF0F8",
            "showbackground": true,
            "ticks": "",
            "zerolinecolor": "#EBF0F8"
           },
           "zaxis": {
            "backgroundcolor": "white",
            "gridcolor": "#DFE8F3",
            "gridwidth": 2,
            "linecolor": "#EBF0F8",
            "showbackground": true,
            "ticks": "",
            "zerolinecolor": "#EBF0F8"
           }
          },
          "shapedefaults": {
           "line": {
            "color": "#2a3f5f"
           }
          },
          "ternary": {
           "aaxis": {
            "gridcolor": "#DFE8F3",
            "linecolor": "#A2B1C6",
            "ticks": ""
           },
           "baxis": {
            "gridcolor": "#DFE8F3",
            "linecolor": "#A2B1C6",
            "ticks": ""
           },
           "bgcolor": "white",
           "caxis": {
            "gridcolor": "#DFE8F3",
            "linecolor": "#A2B1C6",
            "ticks": ""
           }
          },
          "title": {
           "x": 0.05
          },
          "xaxis": {
           "automargin": true,
           "gridcolor": "#EBF0F8",
           "linecolor": "#EBF0F8",
           "ticks": "",
           "title": {
            "standoff": 15
           },
           "zerolinecolor": "#EBF0F8",
           "zerolinewidth": 2
          },
          "yaxis": {
           "automargin": true,
           "gridcolor": "#EBF0F8",
           "linecolor": "#EBF0F8",
           "ticks": "",
           "title": {
            "standoff": 15
           },
           "zerolinecolor": "#EBF0F8",
           "zerolinewidth": 2
          }
         }
        },
        "title": {
         "font": {
          "size": 15
         },
         "text": "Ownership of Merchant Ships (2013-2023)"
        },
        "width": 500,
        "xaxis": {
         "range": [
          2013,
          2024
         ],
         "showgrid": true,
         "title": {
          "text": "Year"
         },
         "type": "linear"
        },
        "yaxis": {
         "autorange": true,
         "range": [
          4.778370557061818,
          24.851285510458744
         ],
         "showgrid": true,
         "title": {
          "text": "# of ships / million people"
         },
         "type": "linear"
        }
       }
      },
      "image/png": "[encoded data removed]",
      "text/html": [
       "<div>                            <div id=\"d3462e58-b6af-4a18-a333-44f312451c57\" class=\"plotly-graph-div\" style=\"height:400px; width:500px;\"></div>            <script type=\"text/javascript\">                require([\"plotly\"], function(Plotly) {                    window.PLOTLYENV=window.PLOTLYENV || {};                                    if (document.getElementById(\"d3462e58-b6af-4a18-a333-44f312451c57\")) {                    Plotly.newPlot(                        \"d3462e58-b6af-4a18-a333-44f312451c57\",                        [{\"mode\":\"lines+markers\",\"name\":\"UK\",\"x\":[2014,2015,2016,2017,2018,2019,2020,2021,2022,2023,2024],\"y\":[18.745463203182027,18.85858882561962,19.981224964313853,19.649143500949663,19.786235232246163,19.465462247798268,19.781985525191743,19.708683869905858,19.796138130430293,18.80029261155816,null],\"type\":\"scatter\"},{\"mode\":\"lines+markers\",\"name\":\"France\",\"x\":[2014,2015,2016,2017,2018,2019,2020,2021,2022,2023,2024],\"y\":[6.378929494084388,6.671848669489119,6.894060353361958,6.664871435227761,6.372997739610867,6.3512790652448645,6.334068198705107,6.124168264164567,6.267350058909413,6.45443051767408,null],\"type\":\"scatter\"},{\"mode\":\"lines+markers\",\"name\":\"Ireland\",\"x\":[2014,2015,2016,2017,2018,2019,2020,2021,2022,2023,2024],\"y\":[16.746319030259308,19.140966197691725,22.92162381830092,23.505487803355997,23.010628444917078,22.900732418114682,22.465680663989236,22.84845079556319,22.624566768802286,21.093109546209302,null],\"type\":\"scatter\"}],                        {\"template\":{\"data\":{\"barpolar\":[{\"marker\":{\"line\":{\"color\":\"white\",\"width\":0.5},\"pattern\":{\"fillmode\":\"overlay\",\"size\":10,\"solidity\":0.2}},\"type\":\"barpolar\"}],\"bar\":[{\"error_x\":{\"color\":\"#2a3f5f\"},\"error_y\":{\"color\":\"#2a3f5f\"},\"marker\":{\"line\":{\"color\":\"white\",\"width\":0.5},\"pattern\":{\"fillmode\":\"overlay\",\"size\":10,\"solidity\":0.2}},\"type\":\"bar\"}],\"carpet\":[{\"aaxis\":{\"endlinecolor\":\"#2a3f5f\",\"gridcolor\":\"#C8D4E3\",\"linecolor\":\"#C8D4E3\",\"minorgridcolor\":\"#C8D4E3\",\"startlinecolor\":\"#2a3f5f\"},\"baxis\":{\"endlinecolor\":\"#2a3f5f\",\"gridcolor\":\"#C8D4E3\",\"linecolor\":\"#C8D4E3\",\"minorgridcolor\":\"#C8D4E3\",\"startlinecolor\":\"#2a3f5f\"},\"type\":\"carpet\"}],\"choropleth\":[{\"colorbar\":{\"outlinewidth\":0,\"ticks\":\"\"},\"type\":\"choropleth\"}],\"contourcarpet\":[{\"colorbar\":{\"outlinewidth\":0,\"ticks\":\"\"},\"type\":\"contourcarpet\"}],\"contour\":[{\"colorbar\":{\"outlinewidth\":0,\"ticks\":\"\"},\"colorscale\":[[0.0,\"#0d0887\"],[0.1111111111111111,\"#46039f\"],[0.2222222222222222,\"#7201a8\"],[0.3333333333333333,\"#9c179e\"],[0.4444444444444444,\"#bd3786\"],[0.5555555555555556,\"#d8576b\"],[0.6666666666666666,\"#ed7953\"],[0.7777777777777778,\"#fb9f3a\"],[0.8888888888888888,\"#fdca26\"],[1.0,\"#f0f921\"]],\"type\":\"contour\"}],\"heatmapgl\":[{\"colorbar\":{\"outlinewidth\":0,\"ticks\":\"\"},\"colorscale\":[[0.0,\"#0d0887\"],[0.1111111111111111,\"#46039f\"],[0.2222222222222222,\"#7201a8\"],[0.3333333333333333,\"#9c179e\"],[0.4444444444444444,\"#bd3786\"],[0.5555555555555556,\"#d8576b\"],[0.6666666666666666,\"#ed7953\"],[0.7777777777777778,\"#fb9f3a\"],[0.8888888888888888,\"#fdca26\"],[1.0,\"#f0f921\"]],\"type\":\"heatmapgl\"}],\"heatmap\":[{\"colorbar\":{\"outlinewidth\":0,\"ticks\":\"\"},\"colorscale\":[[0.0,\"#0d0887\"],[0.1111111111111111,\"#46039f\"],[0.2222222222222222,\"#7201a8\"],[0.3333333333333333,\"#9c179e\"],[0.4444444444444444,\"#bd3786\"],[0.5555555555555556,\"#d8576b\"],[0.6666666666666666,\"#ed7953\"],[0.7777777777777778,\"#fb9f3a\"],[0.8888888888888888,\"#fdca26\"],[1.0,\"#f0f921\"]],\"type\":\"heatmap\"}],\"histogram2dcontour\":[{\"colorbar\":{\"outlinewidth\":0,\"ticks\":\"\"},\"colorscale\":[[0.0,\"#0d0887\"],[0.1111111111111111,\"#46039f\"],[0.2222222222222222,\"#7201a8\"],[0.3333333333333333,\"#9c179e\"],[0.4444444444444444,\"#bd3786\"],[0.5555555555555556,\"#d8576b\"],[0.6666666666666666,\"#ed7953\"],[0.7777777777777778,\"#fb9f3a\"],[0.8888888888888888,\"#fdca26\"],[1.0,\"#f0f921\"]],\"type\":\"histogram2dcontour\"}],\"histogram2d\":[{\"colorbar\":{\"outlinewidth\":0,\"ticks\":\"\"},\"colorscale\":[[0.0,\"#0d0887\"],[0.1111111111111111,\"#46039f\"],[0.2222222222222222,\"#7201a8\"],[0.3333333333333333,\"#9c179e\"],[0.4444444444444444,\"#bd3786\"],[0.5555555555555556,\"#d8576b\"],[0.6666666666666666,\"#ed7953\"],[0.7777777777777778,\"#fb9f3a\"],[0.8888888888888888,\"#fdca26\"],[1.0,\"#f0f921\"]],\"type\":\"histogram2d\"}],\"histogram\":[{\"marker\":{\"pattern\":{\"fillmode\":\"overlay\",\"size\":10,\"solidity\":0.2}},\"type\":\"histogram\"}],\"mesh3d\":[{\"colorbar\":{\"outlinewidth\":0,\"ticks\":\"\"},\"type\":\"mesh3d\"}],\"parcoords\":[{\"line\":{\"colorbar\":{\"outlinewidth\":0,\"ticks\":\"\"}},\"type\":\"parcoords\"}],\"pie\":[{\"automargin\":true,\"type\":\"pie\"}],\"scatter3d\":[{\"line\":{\"colorbar\":{\"outlinewidth\":0,\"ticks\":\"\"}},\"marker\":{\"colorbar\":{\"outlinewidth\":0,\"ticks\":\"\"}},\"type\":\"scatter3d\"}],\"scattercarpet\":[{\"marker\":{\"colorbar\":{\"outlinewidth\":0,\"ticks\":\"\"}},\"type\":\"scattercarpet\"}],\"scattergeo\":[{\"marker\":{\"colorbar\":{\"outlinewidth\":0,\"ticks\":\"\"}},\"type\":\"scattergeo\"}],\"scattergl\":[{\"marker\":{\"colorbar\":{\"outlinewidth\":0,\"ticks\":\"\"}},\"type\":\"scattergl\"}],\"scattermapbox\":[{\"marker\":{\"colorbar\":{\"outlinewidth\":0,\"ticks\":\"\"}},\"type\":\"scattermapbox\"}],\"scatterpolargl\":[{\"marker\":{\"colorbar\":{\"outlinewidth\":0,\"ticks\":\"\"}},\"type\":\"scatterpolargl\"}],\"scatterpolar\":[{\"marker\":{\"colorbar\":{\"outlinewidth\":0,\"ticks\":\"\"}},\"type\":\"scatterpolar\"}],\"scatter\":[{\"fillpattern\":{\"fillmode\":\"overlay\",\"size\":10,\"solidity\":0.2},\"type\":\"scatter\"}],\"scatterternary\":[{\"marker\":{\"colorbar\":{\"outlinewidth\":0,\"ticks\":\"\"}},\"type\":\"scatterternary\"}],\"surface\":[{\"colorbar\":{\"outlinewidth\":0,\"ticks\":\"\"},\"colorscale\":[[0.0,\"#0d0887\"],[0.1111111111111111,\"#46039f\"],[0.2222222222222222,\"#7201a8\"],[0.3333333333333333,\"#9c179e\"],[0.4444444444444444,\"#bd3786\"],[0.5555555555555556,\"#d8576b\"],[0.6666666666666666,\"#ed7953\"],[0.7777777777777778,\"#fb9f3a\"],[0.8888888888888888,\"#fdca26\"],[1.0,\"#f0f921\"]],\"type\":\"surface\"}],\"table\":[{\"cells\":{\"fill\":{\"color\":\"#EBF0F8\"},\"line\":{\"color\":\"white\"}},\"header\":{\"fill\":{\"color\":\"#C8D4E3\"},\"line\":{\"color\":\"white\"}},\"type\":\"table\"}]},\"layout\":{\"annotationdefaults\":{\"arrowcolor\":\"#2a3f5f\",\"arrowhead\":0,\"arrowwidth\":1},\"autotypenumbers\":\"strict\",\"coloraxis\":{\"colorbar\":{\"outlinewidth\":0,\"ticks\":\"\"}},\"colorscale\":{\"diverging\":[[0,\"#8e0152\"],[0.1,\"#c51b7d\"],[0.2,\"#de77ae\"],[0.3,\"#f1b6da\"],[0.4,\"#fde0ef\"],[0.5,\"#f7f7f7\"],[0.6,\"#e6f5d0\"],[0.7,\"#b8e186\"],[0.8,\"#7fbc41\"],[0.9,\"#4d9221\"],[1,\"#276419\"]],\"sequential\":[[0.0,\"#0d0887\"],[0.1111111111111111,\"#46039f\"],[0.2222222222222222,\"#7201a8\"],[0.3333333333333333,\"#9c179e\"],[0.4444444444444444,\"#bd3786\"],[0.5555555555555556,\"#d8576b\"],[0.6666666666666666,\"#ed7953\"],[0.7777777777777778,\"#fb9f3a\"],[0.8888888888888888,\"#fdca26\"],[1.0,\"#f0f921\"]],\"sequentialminus\":[[0.0,\"#0d0887\"],[0.1111111111111111,\"#46039f\"],[0.2222222222222222,\"#7201a8\"],[0.3333333333333333,\"#9c179e\"],[0.4444444444444444,\"#bd3786\"],[0.5555555555555556,\"#d8576b\"],[0.6666666666666666,\"#ed7953\"],[0.7777777777777778,\"#fb9f3a\"],[0.8888888888888888,\"#fdca26\"],[1.0,\"#f0f921\"]]},\"colorway\":[\"#636efa\",\"#EF553B\",\"#00cc96\",\"#ab63fa\",\"#FFA15A\",\"#19d3f3\",\"#FF6692\",\"#B6E880\",\"#FF97FF\",\"#FECB52\"],\"font\":{\"color\":\"#2a3f5f\"},\"geo\":{\"bgcolor\":\"white\",\"lakecolor\":\"white\",\"landcolor\":\"white\",\"showlakes\":true,\"showland\":true,\"subunitcolor\":\"#C8D4E3\"},\"hoverlabel\":{\"align\":\"left\"},\"hovermode\":\"closest\",\"mapbox\":{\"style\":\"light\"},\"paper_bgcolor\":\"white\",\"plot_bgcolor\":\"white\",\"polar\":{\"angularaxis\":{\"gridcolor\":\"#EBF0F8\",\"linecolor\":\"#EBF0F8\",\"ticks\":\"\"},\"bgcolor\":\"white\",\"radialaxis\":{\"gridcolor\":\"#EBF0F8\",\"linecolor\":\"#EBF0F8\",\"ticks\":\"\"}},\"scene\":{\"xaxis\":{\"backgroundcolor\":\"white\",\"gridcolor\":\"#DFE8F3\",\"gridwidth\":2,\"linecolor\":\"#EBF0F8\",\"showbackground\":true,\"ticks\":\"\",\"zerolinecolor\":\"#EBF0F8\"},\"yaxis\":{\"backgroundcolor\":\"white\",\"gridcolor\":\"#DFE8F3\",\"gridwidth\":2,\"linecolor\":\"#EBF0F8\",\"showbackground\":true,\"ticks\":\"\",\"zerolinecolor\":\"#EBF0F8\"},\"zaxis\":{\"backgroundcolor\":\"white\",\"gridcolor\":\"#DFE8F3\",\"gridwidth\":2,\"linecolor\":\"#EBF0F8\",\"showbackground\":true,\"ticks\":\"\",\"zerolinecolor\":\"#EBF0F8\"}},\"shapedefaults\":{\"line\":{\"color\":\"#2a3f5f\"}},\"ternary\":{\"aaxis\":{\"gridcolor\":\"#DFE8F3\",\"linecolor\":\"#A2B1C6\",\"ticks\":\"\"},\"baxis\":{\"gridcolor\":\"#DFE8F3\",\"linecolor\":\"#A2B1C6\",\"ticks\":\"\"},\"bgcolor\":\"white\",\"caxis\":{\"gridcolor\":\"#DFE8F3\",\"linecolor\":\"#A2B1C6\",\"ticks\":\"\"}},\"title\":{\"x\":0.05},\"xaxis\":{\"automargin\":true,\"gridcolor\":\"#EBF0F8\",\"linecolor\":\"#EBF0F8\",\"ticks\":\"\",\"title\":{\"standoff\":15},\"zerolinecolor\":\"#EBF0F8\",\"zerolinewidth\":2},\"yaxis\":{\"automargin\":true,\"gridcolor\":\"#EBF0F8\",\"linecolor\":\"#EBF0F8\",\"ticks\":\"\",\"title\":{\"standoff\":15},\"zerolinecolor\":\"#EBF0F8\",\"zerolinewidth\":2}}},\"title\":{\"font\":{\"size\":15},\"text\":\"Ownership of Merchant Ships (2013-2023)\"},\"xaxis\":{\"title\":{\"text\":\"Year\"},\"range\":[2013,2024],\"showgrid\":true},\"yaxis\":{\"title\":{\"text\":\"# of ships / million people\"},\"showgrid\":true},\"legend\":{\"title\":{\"text\":\"Country\"}},\"hovermode\":\"x unified\",\"width\":500,\"height\":400,\"annotations\":[{\"arrowhead\":1,\"ax\":0,\"ay\":-20,\"bgcolor\":\"white\",\"bordercolor\":\"black\",\"borderpad\":3,\"font\":{\"size\":10},\"showarrow\":true,\"text\":\"1285 UK Ships\",\"x\":2023,\"xref\":\"x\",\"y\":18.80029261155816,\"yref\":\"y\"},{\"arrowhead\":1,\"ax\":0,\"ay\":-20,\"bgcolor\":\"white\",\"bordercolor\":\"black\",\"borderpad\":3,\"font\":{\"size\":10},\"showarrow\":true,\"text\":\"440 FR Ships\",\"x\":2023,\"xref\":\"x\",\"y\":6.45443051767408,\"yref\":\"y\"},{\"arrowhead\":1,\"ax\":0,\"ay\":-20,\"bgcolor\":\"white\",\"bordercolor\":\"black\",\"borderpad\":3,\"font\":{\"size\":10},\"showarrow\":true,\"text\":\"111 IE Ships\",\"x\":2023,\"xref\":\"x\",\"y\":21.093109546209302,\"yref\":\"y\"},{\"font\":{\"size\":12},\"showarrow\":false,\"text\":\"Source: <a href='https://unctadstat.unctad.org/datacentre/dataviewer/US.FleetBeneficialOwners'>UN Trade & Development Statistics</a>\",\"x\":0.5,\"xanchor\":\"center\",\"xref\":\"paper\",\"y\":-0.3,\"yref\":\"paper\"}],\"showlegend\":false},                        {\"responsive\": true}                    ).then(function(){\n",
       "                            \n",
       "var gd = document.getElementById('d3462e58-b6af-4a18-a333-44f312451c57');\n",
       "var x = new MutationObserver(function (mutations, observer) {{\n",
       "        var display = window.getComputedStyle(gd).display;\n",
       "        if (!display || display === 'none') {{\n",
       "            console.log([gd, 'removed!']);\n",
       "            Plotly.purge(gd);\n",
       "            observer.disconnect();\n",
       "        }}\n",
       "}});\n",
       "\n",
       "// Listen for the removal of the full notebook cells\n",
       "var notebookContainer = gd.closest('#notebook-container');\n",
       "if (notebookContainer) {{\n",
       "    x.observe(notebookContainer, {childList: true});\n",
       "}}\n",
       "\n",
       "// Listen for the clearing of the current output cell\n",
       "var outputEl = gd.closest('.output');\n",
       "if (outputEl) {{\n",
       "    x.observe(outputEl, {childList: true});\n",
       "}}\n",
       "\n",
       "                        })                };                });            </script>        </div>"
      ]
     },
     "metadata": {},
     "output_type": "display_data"
    }
   ],
   "source": [
    "\n",
    "fig = go.Figure()\n",
    "\n",
    "\n",
    "fig.add_trace(go.Scatter(x=df[\"Year\"], y=df[\"UK_perc\"], mode='lines+markers', name='UK'))\n",
    "fig.add_trace(go.Scatter(x=df[\"Year\"], y=df[\"FR_perc\"], mode='lines+markers', name='France'))\n",
    "fig.add_trace(go.Scatter(x=df[\"Year\"], y=df[\"IE_perc\"], mode='lines+markers', name='Ireland'))\n",
    "annotations = []\n",
    "for country in ['UK', 'FR', 'IE']:\n",
    "    y_value = df.loc[df['Year'] == 2023, f'{country}_perc'].values[0]\n",
    "    t = round(df.loc[df['Year'] == 2023, f'{country}'].values[0])\n",
    "    annotations.append(\n",
    "        dict(\n",
    "            x=2023,\n",
    "            y=y_value,\n",
    "            xref=\"x\",\n",
    "            yref=\"y\",\n",
    "            text=f\"{t} {country} Ships\",\n",
    "            showarrow=True,\n",
    "            arrowhead=1,\n",
    "            font=dict(size=10),\n",
    "            ax=0,\n",
    "            ay=-20,\n",
    "            bgcolor='white', \n",
    "            borderpad=3,  \n",
    "            bordercolor='black'  \n",
    "        )\n",
    "    )\n",
    "    \n",
    "fig.update_layout(\n",
    "    title={'text':'Ownership of Merchant Ships (2013-2023)','font': {'size': 15} \n",
    "    },\n",
    "    xaxis_title='Year',\n",
    "    yaxis_title='# of ships / million people',\n",
    "    legend_title='Country',\n",
    "    template='plotly_white',\n",
    "    hovermode='x unified',\n",
    "    xaxis=dict(range=[2013, 2024]),  \n",
    "    width=500, \n",
    "    height=400,   \n",
    "    annotations=annotations,\n",
    "    showlegend=False  \n",
    ")\n",
    "\n",
    "\n",
    "fig.update_xaxes(showgrid=True)\n",
    "fig.update_yaxes(showgrid=True)\n",
    "\n",
    "fig.add_annotation(\n",
    "    text=\"Source: <a href='https://unctadstat.unctad.org/datacentre/dataviewer/US.FleetBeneficialOwners'>UN Trade & Development Statistics</a>\",\n",
    "    xref=\"paper\", yref=\"paper\",\n",
    "    x=0.5, y=-0.30,\n",
    "    showarrow=False,\n",
    "    font=dict(size=12),\n",
    "    xanchor='center'\n",
    ")\n",
    "\n",
    "\n",
    "fig.write_image(\"../output/Ownership of Merchant Ships (2013-2023).png\")\n",
    "\n",
    "fig.show()\n"
   ]
  },
  {
   "cell_type": "code",
   "execution_count": 108,
   "id": "bdd11def-8bb5-4cf9-a5b3-b24dfa2b877a",
   "metadata": {},
   "outputs": [
    {
     "data": {
      "text/plain": [
       "BeneficialOwnership_Label\n",
       "France            1114.0\n",
       "Ireland            276.0\n",
       "United Kingdom    3678.0\n",
       "dtype: float64"
      ]
     },
     "execution_count": 108,
     "metadata": {},
     "output_type": "execute_result"
    }
   ],
   "source": [
    "pd.read_csv(\"../input/UN/ships.csv\",index_col=0).sum(axis=1)"
   ]
  },
  {
   "cell_type": "code",
   "execution_count": null,
   "id": "42ffdf92-8727-4ea7-aa24-f9e0358d4cf6",
   "metadata": {},
   "outputs": [],
   "source": []
  },
  {
   "cell_type": "code",
   "execution_count": null,
   "id": "d08ef524-3302-4d9f-a065-90caec0028fb",
   "metadata": {},
   "outputs": [],
   "source": []
  }
 ],
 "metadata": {
  "kernelspec": {
   "display_name": "Python 3 (ipykernel)",
   "language": "python",
   "name": "python3"
  },
  "language_info": {
   "codemirror_mode": {
    "name": "ipython",
    "version": 3
   },
   "file_extension": ".py",
   "mimetype": "text/x-python",
   "name": "python",
   "nbconvert_exporter": "python",
   "pygments_lexer": "ipython3",
   "version": "3.11.7"
  }
 },
 "nbformat": 4,
 "nbformat_minor": 5
}
